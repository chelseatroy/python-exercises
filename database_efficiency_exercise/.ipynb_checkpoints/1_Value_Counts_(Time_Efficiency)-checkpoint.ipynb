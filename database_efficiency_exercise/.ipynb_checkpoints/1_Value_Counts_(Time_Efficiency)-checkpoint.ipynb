{
 "cells": [
  {
   "cell_type": "markdown",
   "metadata": {},
   "source": [
    "## In Chapter 8, you worked on an in-memory data store.\n",
    "\n",
    "So far it wraps a dictionary with keys that point to each of the items. Now we'll start building out some of the functionality that more sophisticated data stores have. Let's make a new key-value data store. It has a function to `get` values and `set` values. It also has a `count` function, which currently always returns zero."
   ]
  },
  {
   "cell_type": "code",
   "execution_count": 96,
   "metadata": {},
   "outputs": [],
   "source": [
    "import random\n",
    "from datetime import datetime\n",
    "from functools import cache\n",
    "\n",
    "class Datastore():\n",
    "    def __init__(self):\n",
    "        self._data = {}\n",
    "        \n",
    "    def insert_at_random(self, values, num_records):\n",
    "        for x in range(num_records):\n",
    "            random_key = hash(x) # This is how we're getting a pseudo-random and probably unique ID\n",
    "            value_from_choices = random.choices(values)[0]\n",
    "            self.set(random_key, value_from_choices)\n",
    "            \n",
    "    def get(self, key):\n",
    "        return self._data[key]\n",
    "    \n",
    "    def set(self, key, value):\n",
    "        self._data[key] = value\n",
    "\n",
    "    def delete(self, key):\n",
    "        del self._data[key]\n",
    "\n",
    "    def clear(self):\n",
    "        self._data.clear()\n",
    "\n",
    "    def count(self, value_being_counted):\n",
    "        return 0\n",
    "        # return sum(1 for data_value in self._data.values() if data_value == value_being_counted) \n",
    "\n",
    "        # # count = 0\n",
    "        # # for data_value in self._data.values():\n",
    "        # #     if data_value == value_being_counted:\n",
    "        # #         count += 1\n",
    "        # # return count\n",
    "\n",
    "        # return list(self._data.values()).count(value_being_counted)\n"
   ]
  },
  {
   "cell_type": "markdown",
   "metadata": {},
   "source": [
    "Take a look at `insert_at_random` for this data store; we fill it up with lots of instances of a few different fruit and vegetable values."
   ]
  },
  {
   "cell_type": "code",
   "execution_count": 97,
   "metadata": {},
   "outputs": [],
   "source": [
    "small_datastore = Datastore()"
   ]
  },
  {
   "cell_type": "code",
   "execution_count": 98,
   "metadata": {},
   "outputs": [],
   "source": [
    "small_datastore.insert_at_random(values=[\"apple\", \"banana\", \"carrot\", \"celery\", \"mirepoix\", \"clementine\"], num_records=20)"
   ]
  },
  {
   "cell_type": "code",
   "execution_count": 99,
   "metadata": {
    "scrolled": true
   },
   "outputs": [
    {
     "data": {
      "text/plain": [
       "{0: 'celery',\n",
       " 1: 'celery',\n",
       " 2: 'banana',\n",
       " 3: 'banana',\n",
       " 4: 'clementine',\n",
       " 5: 'celery',\n",
       " 6: 'mirepoix',\n",
       " 7: 'banana',\n",
       " 8: 'celery',\n",
       " 9: 'banana',\n",
       " 10: 'carrot',\n",
       " 11: 'clementine',\n",
       " 12: 'apple',\n",
       " 13: 'mirepoix',\n",
       " 14: 'clementine',\n",
       " 15: 'mirepoix',\n",
       " 16: 'mirepoix',\n",
       " 17: 'banana',\n",
       " 18: 'clementine',\n",
       " 19: 'carrot'}"
      ]
     },
     "execution_count": 99,
     "metadata": {},
     "output_type": "execute_result"
    }
   ],
   "source": [
    "small_datastore._data"
   ]
  },
  {
   "cell_type": "code",
   "execution_count": 100,
   "metadata": {},
   "outputs": [
    {
     "data": {
      "text/plain": [
       "4"
      ]
     },
     "execution_count": 100,
     "metadata": {},
     "output_type": "execute_result"
    }
   ],
   "source": [
    "small_datastore.count(\"clementine\")"
   ]
  },
  {
   "cell_type": "code",
   "execution_count": 74,
   "metadata": {},
   "outputs": [],
   "source": [
    "small_datastore.set(21, \"clementine\")"
   ]
  },
  {
   "cell_type": "code",
   "execution_count": 67,
   "metadata": {},
   "outputs": [],
   "source": [
    "db = Datastore()\n",
    "db.insert_at_random(values=[\"apple\", \"banana\", \"carrot\", \"celery\", \"mirepoix\", \"clementine\"], num_records=1000000)"
   ]
  },
  {
   "cell_type": "code",
   "execution_count": 77,
   "metadata": {},
   "outputs": [
    {
     "name": "stdout",
     "output_type": "stream",
     "text": [
      "Operation took 0:00:00.000005 seconds\n"
     ]
    },
    {
     "data": {
      "text/plain": [
       "167221"
      ]
     },
     "execution_count": 77,
     "metadata": {},
     "output_type": "execute_result"
    }
   ],
   "source": [
    "db.count(\"clementine\")"
   ]
  },
  {
   "cell_type": "markdown",
   "metadata": {},
   "source": [
    "Now, when we have a table full of data, it's _pretty common_ for clients to want to be able to find out _how many_ of each value are in a given column. For example, if we have a table of different foods, maybe we want to know how many times each food appears in the datastore. \n",
    "\n",
    "Today we are going to implement the `count` function. See the automated test below, which illustrate exactly how this function should work. Two things to note:\n",
    "\n",
    "1. Right now, the test _fails_ because you'll have to implement `count` to get it to pass.\n",
    "2. The test is looking for a _range_ rather than an exact answer because we're randomly assigning values into the datas tore, so the test represents a 99.8% **confidence interval** around the number of clementine values your data store instance will randomly have (see how confidence intervals are useful? :)"
   ]
  },
  {
   "cell_type": "code",
   "execution_count": 12,
   "metadata": {},
   "outputs": [
    {
     "name": "stdout",
     "output_type": "stream",
     "text": [
      "Defaulting to user installation because normal site-packages is not writeable\n",
      "Requirement already satisfied: colorama in /Users/chelseatroy/Library/Python/3.9/lib/python/site-packages (0.4.6)\n",
      "\n",
      "\u001b[1m[\u001b[0m\u001b[34;49mnotice\u001b[0m\u001b[1;39;49m]\u001b[0m\u001b[39;49m A new release of pip is available: \u001b[0m\u001b[31;49m24.1.1\u001b[0m\u001b[39;49m -> \u001b[0m\u001b[32;49m24.3.1\u001b[0m\n",
      "\u001b[1m[\u001b[0m\u001b[34;49mnotice\u001b[0m\u001b[1;39;49m]\u001b[0m\u001b[39;49m To update, run: \u001b[0m\u001b[32;49m/Library/Developer/CommandLineTools/usr/bin/python3 -m pip install --upgrade pip\u001b[0m\n"
     ]
    }
   ],
   "source": [
    "# You need these imports to run the tests\n",
    "import sys\n",
    "!{sys.executable} -m pip install colorama \n",
    "\n",
    "sys.path.insert(0, '..')\n",
    "from test_framework_exercise.phoenix_test.matchers import FailedAssertion, Assertion, assert_that\n",
    "from test_framework_exercise.phoenix_test.test import Test\n",
    "sys.path.remove('..')"
   ]
  },
  {
   "cell_type": "code",
   "execution_count": 60,
   "metadata": {},
   "outputs": [
    {
     "name": "stdout",
     "output_type": "stream",
     "text": [
      "Operation took 0:00:00.000007 seconds\n",
      "result: 166479\n",
      "\u001b[32m    test_count passed!\n",
      "\u001b[0m    1 out of 1 tests passed.\n",
      "\n"
     ]
    },
    {
     "data": {
      "text/plain": [
       "(1, 1)"
      ]
     },
     "execution_count": 60,
     "metadata": {},
     "output_type": "execute_result"
    }
   ],
   "source": [
    "class DatastoreCountTest(Test):\n",
    "    def test_count(self):\n",
    "        test_db = Datastore()\n",
    "        test_db.insert_at_random(values=[\"apple\", \"banana\", \"carrot\", \"celery\", \"mirepoix\", \"clementine\"], num_records=1000000)        \n",
    "\n",
    "        result = test_db.count(\"clementine\")\n",
    "        print(f\"result: {result}\")\n",
    "        assert_that(160000 < result < 170000).is_true()\n",
    "        \n",
    "DatastoreCountTest().run()"
   ]
  },
  {
   "cell_type": "markdown",
   "metadata": {},
   "source": [
    "### Challenge: Implement the `count` function. \n",
    "\n",
    "The `count` function will allow you to get the number of a certain value stored in your key value store so that the above test passes."
   ]
  },
  {
   "cell_type": "markdown",
   "metadata": {},
   "source": [
    "## Done? OK. \n",
    "\n",
    "Now it's time to tell you about my secret motive for this problem: this exercise is a helpful introduction to the concepts of time and space efficiency in software engineering and how to evaluate those tradeoffs.\n",
    "\n",
    "To make it easier to do that, let's introduce everyone's favorite thing: a decorator! This decorator, called `stopwatch`, prints out how long a method took to run."
   ]
  },
  {
   "cell_type": "code",
   "execution_count": 31,
   "metadata": {},
   "outputs": [],
   "source": [
    "def stopwatch(func):\n",
    "    def wrapper(*args, **kwargs):\n",
    "        start = datetime.now()\n",
    "        result = func(*args, **kwargs)\n",
    "        end = datetime.now()\n",
    "        print(f\"Operation took {end - start} seconds\")\n",
    "        return result\n",
    "    \n",
    "    return wrapper"
   ]
  },
  {
   "cell_type": "markdown",
   "metadata": {},
   "source": [
    "### Challenge: Annotate the `count` function with the `@stopwatch` decorator. \n",
    "\n",
    "Then, duplicate the line ` result = self.db.count(\"clementine\")` a few times in your test so it runs several times.\n",
    "\n",
    "Run the test again. You should get several printouts of how long the test is taking.\n",
    "\n",
    "Why do you think the test is taking so long?\n",
    "\n",
    ".\n",
    "..\n",
    "...\n",
    "....\n",
    "...\n",
    "..\n",
    "."
   ]
  },
  {
   "cell_type": "markdown",
   "metadata": {},
   "source": [
    "## Introducing performance testing!\n",
    "\n",
    "In software engineering, **performance** usually refers to a program's _speed_. And especially when it comes to fetching data, speed can be really, _really_ important. So, in addition to tests that make sure our code does the right thing, we might have tests to make sure our code does the right thing _fast enough_.\n",
    "\n",
    "Run the below test on your implementation of the data store. Does it pass?"
   ]
  },
  {
   "cell_type": "code",
   "execution_count": 61,
   "metadata": {},
   "outputs": [
    {
     "name": "stdout",
     "output_type": "stream",
     "text": [
      "Operation took 0:00:00.000001 seconds\n",
      "\u001b[32m    test_count_performance passed!\n",
      "\u001b[0m    1 out of 1 tests passed.\n",
      "\n"
     ]
    },
    {
     "data": {
      "text/plain": [
       "(1, 1)"
      ]
     },
     "execution_count": 61,
     "metadata": {},
     "output_type": "execute_result"
    }
   ],
   "source": [
    "class DatastorePerformanceTest(Test):\n",
    "\n",
    "    def test_count_performance(self):\n",
    "        test_db = Datastore()\n",
    "        test_db.insert_at_random(values=[\"apple\", \"banana\", \"carrot\", \"celery\", \"mirepoix\", \"clementine\"], num_records=1000000)\n",
    "                \n",
    "        start = datetime.now()\n",
    "        test_db.count(\"clementine\")\n",
    "        end = datetime.now()\n",
    "        assert_that((end - start).total_seconds() < 0.01).is_true()        \n",
    "        \n",
    "DatastorePerformanceTest().run()"
   ]
  },
  {
   "cell_type": "markdown",
   "metadata": {},
   "source": [
    "### Challenge: Implement your `count` function so that _both_ test suites pass.\n",
    "\n",
    "What do you have to do to make that work? \n",
    "\n",
    "What are the implications of that strategy for your data store?"
   ]
  },
  {
   "cell_type": "code",
   "execution_count": 62,
   "metadata": {},
   "outputs": [
    {
     "name": "stdout",
     "output_type": "stream",
     "text": [
      "Operation took 0:00:00.000015 seconds\n"
     ]
    },
    {
     "data": {
      "text/plain": [
       "166363"
      ]
     },
     "execution_count": 62,
     "metadata": {},
     "output_type": "execute_result"
    }
   ],
   "source": [
    "db = Datastore()\n",
    "db.insert_at_random(values=[\"apple\", \"banana\", \"carrot\", \"celery\", \"mirepoix\", \"clementine\"], num_records=1000000)\n",
    "db.count(\"clementine\")"
   ]
  },
  {
   "cell_type": "code",
   "execution_count": 63,
   "metadata": {},
   "outputs": [
    {
     "data": {
      "text/plain": [
       "18721296"
      ]
     },
     "execution_count": 63,
     "metadata": {},
     "output_type": "execute_result"
    }
   ],
   "source": [
    "import sys\n",
    "\n",
    "sys.getsizeof(str(db._data))"
   ]
  },
  {
   "cell_type": "code",
   "execution_count": 64,
   "metadata": {},
   "outputs": [
    {
     "data": {
      "text/plain": [
       "162"
      ]
     },
     "execution_count": 64,
     "metadata": {},
     "output_type": "execute_result"
    }
   ],
   "source": [
    "sys.getsizeof(str(db._counts))"
   ]
  },
  {
   "cell_type": "code",
   "execution_count": null,
   "metadata": {},
   "outputs": [],
   "source": []
  }
 ],
 "metadata": {
  "kernelspec": {
   "display_name": "Python 3 (ipykernel)",
   "language": "python",
   "name": "python3"
  },
  "language_info": {
   "codemirror_mode": {
    "name": "ipython",
    "version": 3
   },
   "file_extension": ".py",
   "mimetype": "text/x-python",
   "name": "python",
   "nbconvert_exporter": "python",
   "pygments_lexer": "ipython3",
   "version": "3.9.6"
  }
 },
 "nbformat": 4,
 "nbformat_minor": 4
}
