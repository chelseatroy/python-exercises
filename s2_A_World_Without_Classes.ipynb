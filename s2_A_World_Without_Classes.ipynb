{
 "cells": [
  {
   "cell_type": "code",
   "execution_count": 2,
   "id": "9335caf0-6b48-4a90-a9cc-6a2d6ac00720",
   "metadata": {},
   "outputs": [],
   "source": [
    "new_dict = {\"greeting\": \"hello\"}"
   ]
  },
  {
   "cell_type": "code",
   "execution_count": 3,
   "id": "c86fd4f4-b67a-404f-9f91-c3c00bc4ad79",
   "metadata": {},
   "outputs": [
    {
     "data": {
      "text/plain": [
       "{'greeting': 'hello'}"
      ]
     },
     "execution_count": 3,
     "metadata": {},
     "output_type": "execute_result"
    }
   ],
   "source": [
    "new_dict"
   ]
  },
  {
   "cell_type": "code",
   "execution_count": 4,
   "id": "6ec4d762-99a9-4bf0-a888-a6742a131e8b",
   "metadata": {},
   "outputs": [
    {
     "name": "stdout",
     "output_type": "stream",
     "text": [
      "Resize at 0 entries: size of underlying array changed from 64 → 224 bytes\n",
      "Resize at 5 entries: size of underlying array changed from 224 → 352 bytes\n",
      "Resize at 10 entries: size of underlying array changed from 352 → 632 bytes\n",
      "Resize at 21 entries: size of underlying array changed from 632 → 1168 bytes\n",
      "Resize at 42 entries: size of underlying array changed from 1168 → 2264 bytes\n",
      "Resize at 85 entries: size of underlying array changed from 2264 → 4688 bytes\n",
      "Resize at 170 entries: size of underlying array changed from 4688 → 9304 bytes\n",
      "Resize at 341 entries: size of underlying array changed from 9304 → 18512 bytes\n",
      "Resize at 682 entries: size of underlying array changed from 18512 → 36952 bytes\n"
     ]
    }
   ],
   "source": [
    "import sys\n",
    "\n",
    "d = {}\n",
    "prev_size = sys.getsizeof(d)\n",
    "\n",
    "for i in range(1000):\n",
    "    d[i] = i\n",
    "    new_size = sys.getsizeof(d)\n",
    "    if new_size != prev_size:\n",
    "        print(f\"Resize at {i} entries: size of underlying array changed from {prev_size} → {new_size} bytes\")\n",
    "        prev_size = new_size"
   ]
  },
  {
   "cell_type": "markdown",
   "id": "21eb05a3-5b74-4624-b21d-8ab01a58c8c6",
   "metadata": {},
   "source": [
    "# A World Without Classes\n",
    "\n",
    "Suppose we want to be able to create, and calculate various values for, different shapes.\n",
    "\n",
    "But suppose we were doing it in a programming language that only has primitive data types (integers, strings, booleans) and a few collection types (lists, dictionaries). How might we do it?"
   ]
  },
  {
   "cell_type": "code",
   "execution_count": 5,
   "id": "eeb4dbce-db06-4ac9-a187-2b546f115a51",
   "metadata": {},
   "outputs": [
    {
     "data": {
      "text/plain": [
       "int"
      ]
     },
     "execution_count": 5,
     "metadata": {},
     "output_type": "execute_result"
    }
   ],
   "source": [
    "my_integer = 6\n",
    "type(my_integer)"
   ]
  },
  {
   "cell_type": "code",
   "execution_count": 6,
   "id": "02dc75fa-273a-449a-a88d-af580b9d291f",
   "metadata": {},
   "outputs": [
    {
     "data": {
      "text/plain": [
       "str"
      ]
     },
     "execution_count": 6,
     "metadata": {},
     "output_type": "execute_result"
    }
   ],
   "source": [
    "my_string = \"Hello\"\n",
    "type(my_string)"
   ]
  },
  {
   "cell_type": "code",
   "execution_count": 7,
   "id": "27bfcb58-bf21-4441-93d5-e68718ffde5a",
   "metadata": {},
   "outputs": [
    {
     "data": {
      "text/plain": [
       "bool"
      ]
     },
     "execution_count": 7,
     "metadata": {},
     "output_type": "execute_result"
    }
   ],
   "source": [
    "my_boolean = True\n",
    "type(my_boolean)"
   ]
  },
  {
   "cell_type": "code",
   "execution_count": 8,
   "id": "7eb951b5-63a6-475a-9678-fcdf5dcc6144",
   "metadata": {},
   "outputs": [
    {
     "data": {
      "text/plain": [
       "float"
      ]
     },
     "execution_count": 8,
     "metadata": {},
     "output_type": "execute_result"
    }
   ],
   "source": [
    "my_float = 1.2\n",
    "type(my_float)"
   ]
  },
  {
   "cell_type": "code",
   "execution_count": 9,
   "id": "da113a80-794e-4580-b489-292a975cd198",
   "metadata": {},
   "outputs": [
    {
     "data": {
      "text/plain": [
       "(1, 2)"
      ]
     },
     "execution_count": 9,
     "metadata": {},
     "output_type": "execute_result"
    }
   ],
   "source": [
    "my_tuple = 1, 2\n",
    "type(my_tuple)\n",
    "my_tuple"
   ]
  },
  {
   "cell_type": "code",
   "execution_count": 10,
   "id": "751bff76-6919-42b9-9c55-494f723827c2",
   "metadata": {},
   "outputs": [],
   "source": [
    "a, b = 1, 2"
   ]
  },
  {
   "cell_type": "code",
   "execution_count": 11,
   "id": "bab57ad7-c901-49b0-97e4-52fff1bf424e",
   "metadata": {},
   "outputs": [],
   "source": [
    "# List and tuple: collection of items indexed by an integer"
   ]
  },
  {
   "cell_type": "code",
   "execution_count": 12,
   "id": "5c948697-7cc3-4709-90bb-9a6d23a60aef",
   "metadata": {},
   "outputs": [
    {
     "name": "stdout",
     "output_type": "stream",
     "text": [
      "{1, 2, 3, 1.4, 'Hello', 'Hi', 'Zebra', '1'}\n"
     ]
    }
   ],
   "source": [
    "my_set = {3, 1, 2, '1', True, \"Hi\", \"Hello\", \"Zebra\", 1.4}\n",
    "print(my_set)"
   ]
  },
  {
   "cell_type": "code",
   "execution_count": 13,
   "id": "e47992b7-b7fc-4485-8418-8bd90d1da257",
   "metadata": {},
   "outputs": [
    {
     "data": {
      "text/plain": [
       "list"
      ]
     },
     "execution_count": 13,
     "metadata": {},
     "output_type": "execute_result"
    }
   ],
   "source": [
    "my_list = [3, 2, 3]\n",
    "type(my_list)"
   ]
  },
  {
   "cell_type": "code",
   "execution_count": 14,
   "id": "f54e8f7c-5904-4ff3-a4a3-da5c1d694b8b",
   "metadata": {},
   "outputs": [
    {
     "data": {
      "text/plain": [
       "[3, 2, 3]"
      ]
     },
     "execution_count": 14,
     "metadata": {},
     "output_type": "execute_result"
    }
   ],
   "source": [
    "my_list"
   ]
  },
  {
   "cell_type": "code",
   "execution_count": 15,
   "id": "f26dd130-c081-4957-a02e-e4fc1333e6c0",
   "metadata": {},
   "outputs": [],
   "source": [
    "# Dictionary: collection of items indexed by any hashable type"
   ]
  },
  {
   "cell_type": "code",
   "execution_count": 16,
   "id": "9a3f1a13-92fc-4709-810d-b85a4112c8e9",
   "metadata": {},
   "outputs": [
    {
     "name": "stdout",
     "output_type": "stream",
     "text": [
      "{'greeting': \"what's up\"}\n"
     ]
    }
   ],
   "source": [
    "my_dict_1 = {\"greeting\": \"hi\", \"greeting\": \"hello\"} \n",
    "my_dict_1['greeting'] = \"what's up\"\n",
    "print(my_dict_1)"
   ]
  },
  {
   "cell_type": "code",
   "execution_count": 17,
   "id": "fa36848b-0eab-4cac-a8e8-3f14f4083f6a",
   "metadata": {},
   "outputs": [],
   "source": [
    "my_dict_2 = {1: \"hi\", 2: \"hello\"}"
   ]
  },
  {
   "cell_type": "code",
   "execution_count": 18,
   "id": "9a2df5a7-a6a1-40c5-9a01-9240cee754d2",
   "metadata": {},
   "outputs": [
    {
     "data": {
      "text/plain": [
       "'hi'"
      ]
     },
     "execution_count": 18,
     "metadata": {},
     "output_type": "execute_result"
    }
   ],
   "source": [
    "my_dict_2[1]"
   ]
  },
  {
   "cell_type": "code",
   "execution_count": 19,
   "id": "d0ff9461-b7e0-48ca-9329-a1b1b985373d",
   "metadata": {},
   "outputs": [],
   "source": [
    "# Functions"
   ]
  },
  {
   "cell_type": "code",
   "execution_count": 20,
   "id": "be95d9ed-5bc1-46ee-ba38-cfdb8467be73",
   "metadata": {},
   "outputs": [],
   "source": [
    "def add(addend_1, addend_2):\n",
    "    return addend_1 + addend_2"
   ]
  },
  {
   "cell_type": "code",
   "execution_count": 21,
   "id": "8c66fb13-f6cb-4f03-a23f-a1c89150ce98",
   "metadata": {},
   "outputs": [
    {
     "data": {
      "text/plain": [
       "2"
      ]
     },
     "execution_count": 21,
     "metadata": {},
     "output_type": "execute_result"
    }
   ],
   "source": [
    "add(1, 1)"
   ]
  },
  {
   "cell_type": "code",
   "execution_count": 22,
   "id": "99ced798-3253-4117-b6d4-0e5752db9dfe",
   "metadata": {},
   "outputs": [],
   "source": [
    "# locals()"
   ]
  },
  {
   "cell_type": "code",
   "execution_count": 53,
   "id": "668c2d28-8722-42d8-aa82-76055c5a8f28",
   "metadata": {},
   "outputs": [],
   "source": [
    "import math\n",
    "\n",
    "class Circle:\n",
    "    def __init__(self, radius):\n",
    "        self.radius = radius\n",
    "        \n",
    "    def area(self):\n",
    "        return math.pi * (self.radius**2)"
   ]
  },
  {
   "cell_type": "code",
   "execution_count": 54,
   "id": "dc7b66b9",
   "metadata": {},
   "outputs": [],
   "source": [
    "Circle.diameter = lambda self: self.radius * 2"
   ]
  },
  {
   "cell_type": "code",
   "execution_count": 55,
   "id": "f9c2aa01-6daa-4039-8761-858e19760964",
   "metadata": {},
   "outputs": [
    {
     "data": {
      "text/plain": [
       "mappingproxy({'__module__': '__main__',\n",
       "              '__init__': <function __main__.Circle.__init__(self, radius)>,\n",
       "              'area': <function __main__.Circle.area(self)>,\n",
       "              '__dict__': <attribute '__dict__' of 'Circle' objects>,\n",
       "              '__weakref__': <attribute '__weakref__' of 'Circle' objects>,\n",
       "              '__doc__': None,\n",
       "              'diameter': <function __main__.<lambda>(self)>})"
      ]
     },
     "execution_count": 55,
     "metadata": {},
     "output_type": "execute_result"
    }
   ],
   "source": [
    "Circle.__dict__"
   ]
  },
  {
   "cell_type": "code",
   "execution_count": 25,
   "id": "d8a88856-dc5e-43ef-9b1b-927c78b9be52",
   "metadata": {},
   "outputs": [
    {
     "data": {
      "text/plain": [
       "28.274333882308138"
      ]
     },
     "execution_count": 25,
     "metadata": {},
     "output_type": "execute_result"
    }
   ],
   "source": [
    "import math\n",
    "\n",
    "new_circle = {\n",
    "    \"radius\": 3.0\n",
    "}\n",
    "\n",
    "new_circle_area = math.pi * (new_circle[\"radius\"]**2)\n",
    "new_circle_area"
   ]
  },
  {
   "cell_type": "code",
   "execution_count": 26,
   "id": "92bbedb9-b875-4fa6-b3c6-aef6f8928100",
   "metadata": {},
   "outputs": [
    {
     "data": {
      "text/plain": [
       "18.84955592153876"
      ]
     },
     "execution_count": 26,
     "metadata": {},
     "output_type": "execute_result"
    }
   ],
   "source": [
    "new_circle_circumference = math.pi * (new_circle[\"radius\"] * 2)\n",
    "new_circle_circumference"
   ]
  },
  {
   "cell_type": "code",
   "execution_count": 27,
   "id": "87f4c863-c270-429d-95c5-e1ece488be3d",
   "metadata": {},
   "outputs": [
    {
     "data": {
      "text/plain": [
       "6.0"
      ]
     },
     "execution_count": 27,
     "metadata": {},
     "output_type": "execute_result"
    }
   ],
   "source": [
    "new_circle_diameter = new_circle[\"radius\"] * 2\n",
    "new_circle_diameter"
   ]
  },
  {
   "cell_type": "code",
   "execution_count": 28,
   "id": "92c96155-dd48-4d38-b149-72376e03d92c",
   "metadata": {},
   "outputs": [],
   "source": [
    "circle_behavior = {\n",
    "    \"area\" : lambda radius: math.pi * (radius**2),\n",
    "    \"circumference\" : lambda radius: math.pi * (radius * 2),\n",
    "    \"diameter\" : lambda radius: radius * 2,\n",
    "}"
   ]
  },
  {
   "cell_type": "code",
   "execution_count": 29,
   "id": "435c21d1-578a-487f-9d34-b2b4e3d7b8a7",
   "metadata": {},
   "outputs": [],
   "source": [
    "another_circle = {\"radius\": 7 }"
   ]
  },
  {
   "cell_type": "code",
   "execution_count": 30,
   "id": "e6fd824b-7ccd-4d49-b73b-59ac3a2d0ef2",
   "metadata": {},
   "outputs": [],
   "source": [
    "another_circle.update(circle_behavior)"
   ]
  },
  {
   "cell_type": "code",
   "execution_count": 31,
   "id": "6f0f423b-b7f3-4a2c-9171-323fb9793518",
   "metadata": {},
   "outputs": [
    {
     "data": {
      "text/plain": [
       "{'radius': 7,\n",
       " 'area': <function __main__.<lambda>(radius)>,\n",
       " 'circumference': <function __main__.<lambda>(radius)>,\n",
       " 'diameter': <function __main__.<lambda>(radius)>}"
      ]
     },
     "execution_count": 31,
     "metadata": {},
     "output_type": "execute_result"
    }
   ],
   "source": [
    "another_circle"
   ]
  },
  {
   "cell_type": "code",
   "execution_count": 38,
   "id": "3abec6f4-de8f-464a-a38a-107726dfdbcf",
   "metadata": {},
   "outputs": [],
   "source": [
    "rectangle_behavior = {\n",
    "    \"area\" : lambda length, width: length * width,\n",
    "    \"perimeter\" : lambda length, width: (2 * length) + (2 * width),\n",
    "    \"angle_size\": 90\n",
    "}"
   ]
  },
  {
   "cell_type": "code",
   "execution_count": 41,
   "id": "5496102d",
   "metadata": {},
   "outputs": [
    {
     "data": {
      "text/plain": [
       "{'length': 4,\n",
       " 'width': 6,\n",
       " 'area': <function __main__.<lambda>(length, width)>,\n",
       " 'perimeter': <function __main__.<lambda>(length, width)>,\n",
       " 'angle_size': 90}"
      ]
     },
     "execution_count": 41,
     "metadata": {},
     "output_type": "execute_result"
    }
   ],
   "source": [
    "new_rectangle = {\"length\": 4, \"width\": 6}\n",
    "new_rectangle.update(rectangle_behavior)\n",
    "new_rectangle"
   ]
  },
  {
   "cell_type": "code",
   "execution_count": 40,
   "id": "65856100",
   "metadata": {},
   "outputs": [
    {
     "data": {
      "text/plain": [
       "24"
      ]
     },
     "execution_count": 40,
     "metadata": {},
     "output_type": "execute_result"
    }
   ],
   "source": [
    "new_rectangle['area'](new_rectangle['length'], new_rectangle['width'])"
   ]
  },
  {
   "cell_type": "code",
   "execution_count": null,
   "id": "51530326",
   "metadata": {},
   "outputs": [],
   "source": [
    "square_behavior = {\n",
    "    \"area\" : lambda side_length: length ** 2,\n",
    "    \"perimeter\" : lambda side_length: 4 * side_length,\n",
    "    \"super\": rectangle_behavior\n",
    "}"
   ]
  },
  {
   "cell_type": "code",
   "execution_count": 51,
   "id": "14fe1a89",
   "metadata": {},
   "outputs": [],
   "source": [
    "new_square = {\"side_length\" : new_rectangle['length']}\n",
    "new_square.update(square_behavior)"
   ]
  },
  {
   "cell_type": "code",
   "execution_count": 52,
   "id": "19da79c1",
   "metadata": {},
   "outputs": [
    {
     "data": {
      "text/plain": [
       "{'side_length': 4,\n",
       " 'area': <function __main__.<lambda>(side_length)>,\n",
       " 'perimeter': <function __main__.<lambda>(side_length)>,\n",
       " 'angle_size': 90}"
      ]
     },
     "execution_count": 52,
     "metadata": {},
     "output_type": "execute_result"
    }
   ],
   "source": [
    "new_square"
   ]
  },
  {
   "cell_type": "code",
   "execution_count": null,
   "id": "f8e9bf92",
   "metadata": {},
   "outputs": [],
   "source": []
  }
 ],
 "metadata": {
  "kernelspec": {
   "display_name": "Python 3 (ipykernel)",
   "language": "python",
   "name": "python3"
  },
  "language_info": {
   "codemirror_mode": {
    "name": "ipython",
    "version": 3
   },
   "file_extension": ".py",
   "mimetype": "text/x-python",
   "name": "python",
   "nbconvert_exporter": "python",
   "pygments_lexer": "ipython3",
   "version": "3.10.8"
  }
 },
 "nbformat": 4,
 "nbformat_minor": 5
}
